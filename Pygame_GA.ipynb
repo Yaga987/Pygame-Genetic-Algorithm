{
  "cells": [
    {
      "cell_type": "code",
      "execution_count": 2,
      "metadata": {
        "colab": {
          "base_uri": "https://localhost:8080/"
        },
        "id": "FILPAJrDWrD7",
        "outputId": "cd89f049-0ebe-411e-d7ad-e4948c4afee4"
      },
      "outputs": [],
      "source": [
        "# !!pip install pygame"
      ]
    },
    {
      "cell_type": "code",
      "execution_count": 3,
      "metadata": {
        "colab": {
          "base_uri": "https://localhost:8080/"
        },
        "id": "KO12sMP0WAVA",
        "outputId": "db482300-63c1-42b8-94a9-3f8eced21499"
      },
      "outputs": [
        {
          "name": "stdout",
          "output_type": "stream",
          "text": [
            "pygame 2.2.0 (SDL 2.0.22, Python 3.10.1)\n",
            "Hello from the pygame community. https://www.pygame.org/contribute.html\n"
          ]
        }
      ],
      "source": [
        "import pygame\n",
        "import math\n",
        "import random\n",
        "\n",
        "# Define constants\n",
        "SCREEN_WIDTH = 800\n",
        "SCREEN_HEIGHT = 600\n",
        "POPULATION_SIZE = 50\n",
        "MUTATION_RATE = 0.1\n",
        "\n",
        "# Initialize Pygame\n",
        "pygame.init()\n",
        "screen = pygame.display.set_mode((SCREEN_WIDTH, SCREEN_HEIGHT))\n",
        "pygame.display.set_caption('Genetic Algorithm Simulation')\n",
        "\n",
        "# Define the Creature class\n",
        "class Creature:\n",
        "    def __init__(self, x, y):\n",
        "        self.x = x\n",
        "        self.y = y\n",
        "        self.color = (random.randint(0, 255), random.randint(0, 255), random.randint(0, 255))\n",
        "        self.speed = random.uniform(0, 5)\n",
        "        self.direction = random.uniform(0, 2 * math.pi)\n",
        "        self.fitness = 0\n",
        "    \n",
        "    def update(self):\n",
        "        self.x += self.speed * math.cos(self.direction)\n",
        "        self.y += self.speed * math.sin(self.direction)\n",
        "        self.direction += random.uniform(-math.pi / 6, math.pi / 6)\n",
        "        self.fitness += 1\n",
        "    \n",
        "    def draw(self):\n",
        "        pygame.draw.circle(screen, self.color, (int(self.x), int(self.y)), 10)\n",
        "        \n",
        "# Define the Population class\n",
        "class Population:\n",
        "    def __init__(self):\n",
        "        self.creatures = [Creature(random.uniform(0, SCREEN_WIDTH), random.uniform(0, SCREEN_HEIGHT)) for _ in range(POPULATION_SIZE)]\n",
        "    \n",
        "    def evaluate(self):\n",
        "        for creature in self.creatures:\n",
        "            creature.fitness = 0\n",
        "            for _ in range(100):\n",
        "                creature.update()\n",
        "                if creature.x < 0 or creature.x > SCREEN_WIDTH or creature.y < 0 or creature.y > SCREEN_HEIGHT:\n",
        "                    break\n",
        "    \n",
        "    def selection(self):\n",
        "        self.creatures.sort(key=lambda creature: creature.fitness, reverse=True)\n",
        "        self.creatures = self.creatures[:POPULATION_SIZE // 2]\n",
        "    \n",
        "    def crossover(self):\n",
        "        new_creatures = []\n",
        "        for i in range(POPULATION_SIZE // 2):\n",
        "            parent1 = random.choice(self.creatures)\n",
        "            parent2 = random.choice(self.creatures)\n",
        "            child1 = Creature(parent1.x, parent1.y)\n",
        "            child2 = Creature(parent2.x, parent2.y)\n",
        "            child1.speed = (parent1.speed + parent2.speed) / 2\n",
        "            child2.speed = (parent1.speed + parent2.speed) / 2\n",
        "            child1.direction = (parent1.direction + parent2.direction) / 2\n",
        "            child2.direction = (parent1.direction + parent2.direction) / 2\n",
        "            new_creatures.append(child1)\n",
        "            new_creatures.append(child2)\n",
        "        self.creatures += new_creatures\n",
        "    \n",
        "    def mutation(self):\n",
        "        for creature in self.creatures:\n",
        "            if random.random() < MUTATION_RATE:\n",
        "                creature.speed += random.uniform(-0.5, 0.5)\n",
        "                creature.direction += random.uniform(-math.pi / 12, math.pi / 12)\n",
        "    \n",
        "    def run(self):\n",
        "      while True:\n",
        "          for event in pygame.event.get():\n",
        "              if event.type == pygame.QUIT:\n",
        "                  pygame.quit()\n",
        "                  quit()\n",
        "          screen.fill((255, 255, 255))\n",
        "          for creature in self.creatures:\n",
        "              creature.update()\n",
        "              creature.draw()\n",
        "          pygame.display.update()\n",
        "          self.evaluate()\n",
        "          self.selection()\n",
        "          self.crossover()\n",
        "          self.mutation()"
      ]
    },
    {
      "cell_type": "code",
      "execution_count": null,
      "metadata": {
        "id": "Vv75ezDWYMDQ"
      },
      "outputs": [],
      "source": [
        "# Create a population and run the simulation\n",
        "population = Population()\n",
        "population.run()"
      ]
    }
  ],
  "metadata": {
    "colab": {
      "provenance": []
    },
    "kernelspec": {
      "display_name": "Python 3",
      "name": "python3"
    },
    "language_info": {
      "codemirror_mode": {
        "name": "ipython",
        "version": 3
      },
      "file_extension": ".py",
      "mimetype": "text/x-python",
      "name": "python",
      "nbconvert_exporter": "python",
      "pygments_lexer": "ipython3",
      "version": "3.10.1"
    }
  },
  "nbformat": 4,
  "nbformat_minor": 0
}
